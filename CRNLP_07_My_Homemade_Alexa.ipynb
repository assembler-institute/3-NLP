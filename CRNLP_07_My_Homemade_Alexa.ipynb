{
 "cells": [
  {
   "cell_type": "markdown",
   "id": "6dfd591a",
   "metadata": {},
   "source": [
    "# My little Alexa\n",
    "\n",
    "In this Notebook you can find a basic ChatBot with limited capabilities. This project will help you understand the fundamentals of chatbot development and natural language processing (NLP).\n",
    "\n",
    "## What Will You Learn?\n",
    "\n",
    "- How to capture audio input\n",
    "- Basic NLP techniques for understanding user intent\n",
    "- Generating appropriate responses\n",
    "- Converting text to speech\n",
    "\n",
    "## How to Start?\n",
    "\n",
    "To get a grasp of how the code is structured, navigate to the end of this notebook and look for the main function running the chatbot. This will serve as your entry point into understanding how everything comes together.\n",
    "\n",
    "Feel free to run cells, inspect variables, and even modify the code to see how it affects the bot's behavior.\n",
    "\n",
    "Let's get started!\n",
    "\n",
    "**Hint:** Remember what you have learned throughout these months. Most of the code is already known ;)"
   ]
  },
  {
   "cell_type": "code",
   "execution_count": 1,
   "id": "5df0efed",
   "metadata": {},
   "outputs": [],
   "source": [
    "import speech_recognition as sr\n",
    "\n",
    "import pandas as pd\n",
    "\n",
    "import nltk\n",
    "from nltk.tokenize import word_tokenize\n",
    "from nltk.corpus import cess_esp\n",
    "from nltk.tag.hmm import HiddenMarkovModelTagger\n",
    "\n",
    "from nltk.chunk.regexp import *\n",
    "\n",
    "from datetime import datetime\n",
    "import wikipedia\n",
    "\n",
    "from urllib.request import Request, urlopen\n",
    "from bs4 import BeautifulSoup\n",
    "from lat_lon_parser import parse\n",
    "import requests\n",
    "import pyttsx3\n",
    "from deep_translator import GoogleTranslator\n",
    "\n",
    "# import openai"
   ]
  },
  {
   "cell_type": "code",
   "execution_count": 2,
   "id": "b0afe046",
   "metadata": {},
   "outputs": [],
   "source": [
    "# You can find your API key at https://platform.openai.com/account/api-keys\n",
    "# However, it is not a Free platform, so I will comment the sections working with openai\n",
    "# in case you want to see how it would work.\n",
    "\n",
    "# api_key = 'PASTE_HERE_YOUR_API_KEY'\n",
    "# openai.api_key = api_key"
   ]
  },
  {
   "cell_type": "code",
   "execution_count": 3,
   "id": "7c1ca2fd",
   "metadata": {},
   "outputs": [],
   "source": [
    "traductor_es = GoogleTranslator(source='en', target='es')\n",
    "traductor_en = GoogleTranslator(source='es', target='en')"
   ]
  },
  {
   "cell_type": "code",
   "execution_count": 4,
   "id": "298af570",
   "metadata": {},
   "outputs": [],
   "source": [
    "hmm = HiddenMarkovModelTagger.train(cess_esp.tagged_sents())"
   ]
  },
  {
   "cell_type": "code",
   "execution_count": 5,
   "id": "1895469e",
   "metadata": {},
   "outputs": [],
   "source": [
    "reglas_weather = r'''\n",
    "    Lugar: {<np0000l>}\n",
    "    Lugar: <sp.*> {<da0.* | vmn.*>}\n",
    "    Fecha: {<rg>}\n",
    "    Fecha: <sp.*> {<nc.*>}\n",
    "'''\n",
    "parser = nltk.RegexpParser(reglas_weather)\n",
    "\n",
    "reglas_knowledge = r'''\n",
    "    Elemento: <vm.*> <sp.*> {<.*>+}\n",
    "'''\n",
    "parser_knowledge = nltk.RegexpParser(reglas_knowledge)"
   ]
  },
  {
   "cell_type": "code",
   "execution_count": 6,
   "id": "21c71b1f",
   "metadata": {},
   "outputs": [],
   "source": [
    "mic = sr.Microphone()\n",
    "instance = sr.Recognizer()\n",
    "def audio_input():\n",
    "    mic = sr.Microphone()\n",
    "    \n",
    "    with mic as source:\n",
    "        instance.adjust_for_ambient_noise(source)\n",
    "        audio = instance.listen(source)\n",
    "        transcript = instance.recognize_google(audio, language='es-ES', show_all=True)\n",
    "        \n",
    "        return transcript['alternative'][0]['transcript']"
   ]
  },
  {
   "cell_type": "code",
   "execution_count": 7,
   "id": "b6c2c907",
   "metadata": {},
   "outputs": [],
   "source": [
    "def extrae_tiempo(_tree):\n",
    "    result = {}\n",
    "    \n",
    "    for branch in _tree:\n",
    "        if type(branch) != tuple:\n",
    "            word, tag = branch[0]\n",
    "            result[branch.label()] = word\n",
    "            \n",
    "    return result"
   ]
  },
  {
   "cell_type": "code",
   "execution_count": 8,
   "id": "a8c0b3fb",
   "metadata": {},
   "outputs": [],
   "source": [
    "def extrae_knowledge(_tree):\n",
    "    \n",
    "    element = ''\n",
    "    \n",
    "    for branch in _tree:\n",
    "        if type(branch) != tuple:\n",
    "            for leave in branch:\n",
    "                word, tag = leave\n",
    "                element = element + word + ' '\n",
    "    \n",
    "    return traductor_en.translate(element.strip())\n",
    "    \n",
    "    "
   ]
  },
  {
   "cell_type": "code",
   "execution_count": 9,
   "id": "65f2ddcd",
   "metadata": {},
   "outputs": [],
   "source": [
    "def get_wiki_info(_input):\n",
    "    result = ''\n",
    "    try:\n",
    "        result = ''.join(wikipedia.page(_input).content.split('\\n')[:2])\n",
    "        result = traductor_es.translate(result)\n",
    "    except:\n",
    "        result = 'Lo lamento, no tengo información sobre este tema'\n",
    "    return result"
   ]
  },
  {
   "cell_type": "code",
   "execution_count": 10,
   "id": "10e91d2f",
   "metadata": {},
   "outputs": [],
   "source": [
    "def get_position(_wiki_url):\n",
    "    headers ={\n",
    "        'User-Agent': 'Mozilla/5.0'\n",
    "    }\n",
    "    wiki_html = Request(_wiki_url, headers=headers)\n",
    "    raw_html = urlopen(wiki_html).read()\n",
    "    soup = BeautifulSoup(raw_html, 'html.parser')\n",
    "    coordinates = []\n",
    "    for pos in soup.find_all('span', attrs={'class':'geo-dms'}):\n",
    "\n",
    "        for elm in pos.find_all('span'):\n",
    "            coordinates.append(elm.text.strip())\n",
    "\n",
    "    lat_lon = [round(parse(coordinates[0]), 2), round(parse(coordinates[1]), 2)]\n",
    "    return lat_lon"
   ]
  },
  {
   "cell_type": "code",
   "execution_count": 11,
   "id": "106aeee7",
   "metadata": {},
   "outputs": [],
   "source": [
    "def get_weather_api(_position):\n",
    "    \n",
    "    api_url = \"https://api.open-meteo.com/v1/forecast\"\n",
    "    api_params = {\n",
    "        \"latitude\": _position[0],\n",
    "        \"longitude\":_position[1],\n",
    "        \"daily\": ['temperature_2m_max','temperature_2m_min','rain_sum','windspeed_10m_max'],\n",
    "        \"timezone\": \"Europe/Berlin\"\n",
    "    }\n",
    "    \n",
    "    req = requests.get(api_url, params=api_params).json()\n",
    "    return req['daily']"
   ]
  },
  {
   "cell_type": "code",
   "execution_count": 12,
   "id": "2cc49eda",
   "metadata": {},
   "outputs": [],
   "source": [
    "def hablar_weather(_data):\n",
    "    \n",
    "    frase = f\"\"\"\n",
    "        Lucho,\n",
    "        \n",
    "        el tiempo previsto para {_data['fecha']} en {_data['ciudad']} es de una temperatura máxima de {_data['tiempo']['tmax']} grados con una mínima de {_data['tiempo']['tmin']} grados\n",
    "    \"\"\"\n",
    "    \n",
    "    return frase"
   ]
  },
  {
   "cell_type": "code",
   "execution_count": 13,
   "id": "79abccdb",
   "metadata": {},
   "outputs": [],
   "source": [
    "engine = pyttsx3.init()\n",
    "def speak(_texto):\n",
    "    engine.setProperty('voice', 'spanish')\n",
    "    engine.setProperty('rate', 150)\n",
    "    engine.say(_texto)\n",
    "    engine.runAndWait()"
   ]
  },
  {
   "cell_type": "code",
   "execution_count": 14,
   "id": "306d2315",
   "metadata": {},
   "outputs": [],
   "source": [
    "def skill_weather(_input):\n",
    "    data = extrae_tiempo(parser.parse(_input))\n",
    "    url_wiki = wikipedia.page(data['Lugar']).url\n",
    "    position = get_position(url_wiki)\n",
    "    weather = get_weather_api(position)\n",
    "    \n",
    "    if data['Fecha'] == 'hoy':\n",
    "        spos = 0\n",
    "    elif data['Fecha'] == 'mañana':\n",
    "        spos = 1\n",
    "        \n",
    "    result = {\n",
    "        \"fecha\": data['Fecha'] + ' dia ' + weather['time'][spos].split('-')[2],\n",
    "        \"tiempo\": {\n",
    "            \"tmax\": weather['temperature_2m_max'][spos],\n",
    "            \"tmin\": weather['temperature_2m_min'][spos],\n",
    "            \"lluvia\": weather['rain_sum'][spos],\n",
    "            \"viento\": weather['windspeed_10m_max'][spos],\n",
    "        },\n",
    "        \"ciudad\": data['Lugar']\n",
    "    }\n",
    "    \n",
    "    return hablar_weather(result)\n",
    "    \n",
    "    "
   ]
  },
  {
   "cell_type": "code",
   "execution_count": 15,
   "id": "63381db7",
   "metadata": {},
   "outputs": [],
   "source": [
    "def skill_knowledge(_input):\n",
    "    \n",
    "    tree = parser_knowledge.parse(_input)\n",
    "    data = extrae_knowledge(tree)\n",
    "    wikidata = get_wiki_info(data)\n",
    "    \n",
    "    frase = 'Lucho, esta es la información que he encontrado en wikipedia: ' + wikidata\n",
    "    \n",
    "    return frase\n",
    "    \n",
    "    "
   ]
  },
  {
   "cell_type": "code",
   "execution_count": 16,
   "id": "9f9a8cb2",
   "metadata": {},
   "outputs": [],
   "source": [
    "# def skill_openai(_input):\n",
    "    \n",
    "#     prompt = f\"\"\"\n",
    "#         Contesta con Tono muy sarcástico a {_input}:\n",
    "#     \"\"\"\n",
    "    \n",
    "#     response = openai.Completion.create(\n",
    "#       model=\"text-davinci-003\",\n",
    "#       prompt= prompt,\n",
    "#       temperature=0.8,\n",
    "#       max_tokens=250,\n",
    "#       top_p=1.0,\n",
    "#       frequency_penalty=0.6,\n",
    "#       presence_penalty=0.0\n",
    "#     )\n",
    "    \n",
    "#     return response['choices'][0]['text']"
   ]
  },
  {
   "cell_type": "code",
   "execution_count": 17,
   "id": "03feb63f",
   "metadata": {},
   "outputs": [],
   "source": [
    "test_corpus = [\n",
    "    \"alexa que sabes sobre madrid\",\n",
    "    \"alexa dime el tiempo de madrid para mañana\",\n",
    "    \"alexa que tiempo va a hacer en madrid mañana\"\n",
    "]"
   ]
  },
  {
   "cell_type": "markdown",
   "id": "872a0557",
   "metadata": {},
   "source": [
    "## Main Function for Our Alexa Chatbot\n",
    "\n",
    "Here you have the main function that powers our Alexa chatbot. This function serves as the central hub for the chatbot, orchestrating its various capabilities. \n",
    "\n",
    "By tracing back each funcion that is being called within this main function by its corresponding name, you can get a comprehensive understanding of the chatbot's inner workings.\n",
    "\n",
    "By understanding how each function contributes to the overall behavior of the chatbot, you can extend, debug, or modify the system more effectively.\n"
   ]
  },
  {
   "cell_type": "code",
   "execution_count": 18,
   "id": "7b4c4804",
   "metadata": {},
   "outputs": [],
   "source": [
    "def Alexa(my_input):\n",
    "    input_text = my_input\n",
    "\n",
    "    print('Has dicho: ', input_text)\n",
    "    print('---------------')\n",
    "\n",
    "    tokens = word_tokenize(input_text, 'spanish')\n",
    "    tokens_tags = hmm.tag(tokens)\n",
    "    \n",
    "    if tokens[2] == 'sabes':\n",
    "        path = 'knowledge'\n",
    "    elif tokens[2] == 'tiempo' or tokens[3]=='tiempo':\n",
    "        path= 'weather'\n",
    "    else:\n",
    "        path= 'other'\n",
    "    \n",
    "    if path == 'weather':\n",
    "        frase_speak = skill_weather(tokens_tags)\n",
    "    elif path == 'knowledge':\n",
    "        frase_speak = skill_knowledge(tokens_tags)\n",
    "        #frase_speak = ''\n",
    "    # elif path == 'other':\n",
    "    #     frase_speak = skill_openai(input_text)\n",
    "    \n",
    "\n",
    "    print(frase_speak)\n",
    "    speak(frase_speak)\n",
    "    "
   ]
  },
  {
   "cell_type": "code",
   "execution_count": 19,
   "id": "9ab73bc1",
   "metadata": {
    "scrolled": true
   },
   "outputs": [
    {
     "name": "stdout",
     "output_type": "stream",
     "text": [
      "Has dicho:  Alexa dime el tiempo de barcelona para mañana\n",
      "---------------\n",
      "\n",
      "        Lucho,\n",
      "        \n",
      "        el tiempo previsto para mañana dia 08 en barcelona es de una temperatura máxima de 25.5 grados con una mínima de 21.0 grados\n",
      "    \n"
     ]
    }
   ],
   "source": [
    "my_input = 'Alexa dime el tiempo de barcelona para mañana'\n",
    "Alexa(my_input)"
   ]
  },
  {
   "cell_type": "code",
   "execution_count": 21,
   "id": "8c3947c7",
   "metadata": {},
   "outputs": [
    {
     "name": "stdout",
     "output_type": "stream",
     "text": [
      "Has dicho:  Alexa que sabes sobre Chapadmalal\n",
      "---------------\n",
      "Lucho, esta es la información que he encontrado en wikipedia: El recinto de Chapadmalal es un retiro oficial del presidente de Argentina. Está ubicado en la costa sur de Mar del Plata, en la Provincia de Buenos Aires, y sirve como residencia de verano. Tiene un complejo hotelero cercano. El recinto fue construido en 1947, durante la presidencia de Juan Perón. Raúl Alfonsín sólo lo utilizó en ocasiones limitadas. Carlos Menem ordenó varias mejoras, como un muelle de pesca, una piscina más alta y un santuario. Fernando de la Rúa lo utilizó para las entrevistas. Durante la crisis argentina de 2001, Adolfo Rodríguez Saá convocó a la misma una cumbre de gobernadores a la que asistieron sólo cinco; esta falta de apoyo provocó su dimisión. Néstor y Cristina Kirchner no lo utilizaron, sólo lo visitaron en ocasiones sus hijos. Mauricio Macri lo utilizó para una reunión de su gabinete en un ambiente menos formal.\n"
     ]
    }
   ],
   "source": [
    "my_input = 'Alexa que sabes sobre Chapadmalal'\n",
    "Alexa(my_input)"
   ]
  },
  {
   "cell_type": "code",
   "execution_count": 36,
   "id": "4e132ba5",
   "metadata": {},
   "outputs": [
    {
     "name": "stdout",
     "output_type": "stream",
     "text": [
      "Has dicho:  Alexa dime el tiempo de London para hoy\n",
      "---------------\n",
      "\n",
      "        Lucho,\n",
      "        \n",
      "        el tiempo previsto para hoy dia 07 en London es de una temperatura máxima de 29.5 grados con una mínima de 17.6 grados\n",
      "    \n"
     ]
    }
   ],
   "source": [
    "# If you want to record audio voice to ask Alexa\n",
    "my_input = audio_input()\n",
    "Alexa(my_input)"
   ]
  },
  {
   "cell_type": "markdown",
   "id": "43790d48",
   "metadata": {},
   "source": [
    "Funny, right?\n",
    "\n",
    "<3\n",
    "\n",
    "Voices can be improved:\n",
    "\n",
    "https://cloud.google.com/text-to-speech?hl=es\n",
    "\n",
    "Google Cloud's Text-to-Speech service is indeed a powerful tool for generating high-quality voice output. The platform offers a range of voice options and fine-grained controls over aspects like pitch, speed, and emphasis. While the basic functionality can be used for free within certain usage limits, more advanced features often require a paid subscription.\n",
    "\n",
    "The API is well-documented, and Google provides client libraries in multiple languages, including Python, to make it easy to integrate text-to-speech capabilities into your applications."
   ]
  }
 ],
 "metadata": {
  "kernelspec": {
   "display_name": "Python 3 (ipykernel)",
   "language": "python",
   "name": "python3"
  },
  "language_info": {
   "codemirror_mode": {
    "name": "ipython",
    "version": 3
   },
   "file_extension": ".py",
   "mimetype": "text/x-python",
   "name": "python",
   "nbconvert_exporter": "python",
   "pygments_lexer": "ipython3",
   "version": "3.11.4"
  }
 },
 "nbformat": 4,
 "nbformat_minor": 5
}
