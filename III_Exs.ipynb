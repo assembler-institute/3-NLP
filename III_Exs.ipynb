{
 "cells": [
  {
   "cell_type": "markdown",
   "id": "c5d006fa",
   "metadata": {},
   "source": [
    "# NLP III - Exercises\n",
    "\n",
    "## 1.- Twitter sentiment analyzer\n",
    "\n",
    "Using the CSV with tweets provided, create a manual sentiment analyzer.\n",
    "\n",
    "You'll need to create two lists of words, one with positives an another negatives. Then clean the dataset and analyze the sentiment"
   ]
  },
  {
   "cell_type": "markdown",
   "id": "ceb46bba",
   "metadata": {},
   "source": [
    "## 2.- Voice analyzer\n",
    "\n",
    "Create a bot that can analyze from the voice if someone is saying something positive or negative"
   ]
  }
 ],
 "metadata": {
  "kernelspec": {
   "display_name": "Python 3 (ipykernel)",
   "language": "python",
   "name": "python3"
  },
  "language_info": {
   "codemirror_mode": {
    "name": "ipython",
    "version": 3
   },
   "file_extension": ".py",
   "mimetype": "text/x-python",
   "name": "python",
   "nbconvert_exporter": "python",
   "pygments_lexer": "ipython3",
   "version": "3.9.7"
  }
 },
 "nbformat": 4,
 "nbformat_minor": 5
}
